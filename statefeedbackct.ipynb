{
  "nbformat": 4,
  "nbformat_minor": 0,
  "metadata": {
    "colab": {
      "provenance": [],
      "authorship_tag": "ABX9TyOsioIzWJ++Qe/PUapgPAez"
    },
    "kernelspec": {
      "name": "python3",
      "display_name": "Python 3"
    },
    "language_info": {
      "name": "python"
    }
  },
  "cells": [
    {
      "cell_type": "markdown",
      "source": [
        "## State-feedback control for continuous-time linear systems\n",
        "\n",
        "Consider the continuous-time linear system\n",
        "\n",
        "$$\n",
        "\\dot{x}=Ax+Bu,\n",
        "$$\n",
        "\n",
        "where $u=Kx$, is the state-feedback control law.\n",
        "\n",
        "The goal is to design the gain matrix $K$ by employing the Lyapunov theory. First, close the loop to write\n",
        "\n",
        "$$\n",
        "\\dot{x}=Ax+BKx, \\quad \\mbox{or}, \\quad \\dot{x}=(A+BK)x.\n",
        "$$\n",
        "\n",
        "To provide a stability certificate for the closed-loop system, one must have:\n",
        "\n",
        "* $V(x)>0 \\rightarrow x^TPx>0$, or simply $P>0$.\n",
        "\n",
        "\n",
        "* $\\dot{V}(x)<0 \\rightarrow \\dot{x}^TPx+ {x}^TP\\dot{x}<0$, or $x^T{(A+BK)}^TPx+x^TP(A+BK)x<0$, that can be written as\n",
        "\n",
        "$$\n",
        "(A+BK)^TP + P(A+BK)<0\n",
        "$$\n",
        "\n",
        "Note that it is not a linear condition. To circumvent this problem, we must first perform a congruence transformation by multiplying both sides of the inequality by $P^{-1}$\n",
        "\n",
        "$$\n",
        "P^{-1}(A+BK)^TPP^{-1} + P^{-1}P(A+BK)P^{-1}<0, \\\\\n",
        "P^{-1}(A+BK)^T + (A+BK)P^{-1}<0\n",
        "$$\n",
        "\n",
        "Let us call $P^{-1}=Q$ to write\n",
        "\n",
        "$$\n",
        "Q(A+BK)^T + (A+BK)Q<0.\n",
        "$$\n",
        "\n",
        "Moreover, the following change of variables will be applied $KQ=Z$. In this sense one has\n",
        "\n",
        "$$\n",
        "QA^T+QK^TB^T + AQ+BKQ<0, \\\\\n",
        "QA^T+Z^TB^T + AQ+BZ<0.\n",
        "$$\n",
        "\n",
        "Remember that one must have $P>0$ to guarantee that the Lyapunov function is positive definite. Then, the congruence transformation will be applied to write\n",
        "\n",
        "$$P^{-1}PP^{-1}>0, \\\\\n",
        "P^{-1}>0, \\\\\n",
        "Q>0.\n",
        "$$\n",
        "\n",
        "At the end of the optimization procedure, we will be able to recover the gain matrix\n",
        "\n",
        "$$\n",
        "KQ=Z, \\\\\n",
        "KQQ^{-1}=ZQ^{-1}, \\\\\n",
        "K=ZQ^{-1}.\n",
        "$$\n",
        "\n",
        "### Example\n",
        "\n",
        "Consider the following continuous-time system.\n",
        "\n",
        "$$\n",
        "\\dot{x}=\\begin{bmatrix} 1 & 1 \\\\ 0.5 & 1 \\end{bmatrix}x + \\begin{bmatrix} 1 \\\\ 1 \\end{bmatrix}u\n",
        "$$\n",
        "\n",
        "The system is open-loop unstable. The goal is to design the sate-feedback control action $u=Kx$ such that the closed-loop system $A+BK$ is asymptotic stable.\n",
        "\n"
      ],
      "metadata": {
        "id": "qpIIH_vkZpZq"
      }
    },
    {
      "cell_type": "code",
      "execution_count": null,
      "metadata": {
        "colab": {
          "base_uri": "https://localhost:8080/"
        },
        "id": "CGYbQkorZh_m",
        "outputId": "ad41869d-773b-45bb-a649-5fea32ca4e38"
      },
      "outputs": [
        {
          "output_type": "stream",
          "name": "stdout",
          "text": [
            "status: optimal\n",
            "The eigenvalues of the Lyapunov matrix Q are: [0.03988617 4.1084601 ]\n",
            "Q is positive definite.\n",
            "The closed-loop system is asymptotic stable, and the gain matrix is K= [[-8.58663468  2.28291986]]\n",
            "The eigenvalues of the closed-loop system are: [-3.88073867 -0.42297616]\n",
            "The eigenvalues of the matrix A are: [1.70710678 0.29289322]\n"
          ]
        }
      ],
      "source": [
        "import cvxpy as cp\n",
        "import numpy as np\n",
        "\n",
        "#System matrices\n",
        "A = np.array([[1.0, 1.0],[0.5,1.0]])\n",
        "B = np.array([[1.0],[1.0]])\n",
        "eps=1e-3\n",
        "\n",
        "#Dimensions\n",
        "nx=A.shape[0]\n",
        "nu=B.shape[1]\n",
        "\n",
        "#Create the decision variable\n",
        "Q = cp.Variable((nx,nx), PSD=True)\n",
        "Z = cp.Variable((nu,nx))\n",
        "\n",
        "#Add the constraints\n",
        "constraints = [Q >> eps*np.eye(nx), Q@A.T+A@Q+Z.T@B.T+B@Z << -eps*np.eye(nx)]\n",
        "#Create the objective function\n",
        "objective = cp.Minimize(0)\n",
        "#Define the problem to be solved\n",
        "problem = cp.Problem(objective,constraints)\n",
        "#Solve the problem\n",
        "result = problem.solve()\n",
        "\n",
        "#Print status and solution\n",
        "if problem.status in [\"optimal\", \"optimal_inaccurate\"]:\n",
        "    Q = Q.value\n",
        "    Z= Z.value\n",
        "\n",
        "    print(f\"status: {problem.status}\")\n",
        "\n",
        "    # Check if Q is positive definite\n",
        "    eigenvalues = np.linalg.eigvals(Q)\n",
        "    print(f\"The eigenvalues of the Lyapunov matrix Q are: {eigenvalues}\")\n",
        "\n",
        "    # Check positive definiteness by verifying that all eigenvalues are positive\n",
        "    if np.all(eigenvalues > 0):\n",
        "        print(\"Q is positive definite.\")\n",
        "        Qinv=np.linalg.inv(Q)\n",
        "        K=Z@Qinv\n",
        "        print(\"The closed-loop system is asymptotic stable, and the gain matrix is K=\",K)\n",
        "        eigenvcl = np.linalg.eigvals(A+B@K)\n",
        "        print(f\"The eigenvalues of the closed-loop system are: {eigenvcl}\")\n",
        "    else:\n",
        "        print(\"Q is not positive definite.\")\n",
        "else:\n",
        "    print(f\"Problem status: {problem.status}. No valid solution found.\")\n",
        "\n",
        "#Check the eigenvalues of the open loop system\n",
        "eigenvA = np.linalg.eigvals(A)\n",
        "print(f\"The eigenvalues of the matrix A are: {eigenvA}\")\n"
      ]
    },
    {
      "cell_type": "markdown",
      "source": [
        "In what follows we will plot the time-response of the closed-loop system, considering a random initial condition. The Lyapunov function $V=x'Px$ is also evaluated. Note that $P=Q^{-1}$."
      ],
      "metadata": {
        "id": "Fns-OvOwq-3c"
      }
    },
    {
      "cell_type": "code",
      "source": [
        "import numpy as np\n",
        "from scipy.integrate import odeint\n",
        "import matplotlib.pyplot as plt\n",
        "\n",
        "#System matrices\n",
        "A = np.array([[1.0, 1.0],[0.5,1.0]])\n",
        "B = np.array([[1.0],[1.0]])\n",
        "K= np.array([[-8.58663468, 2.28291986]])\n",
        "\n",
        "#random initial condition\n",
        "x0 = np.random.randn(2)\n",
        "\n",
        "# Define the ODE\n",
        "def system(x, t):\n",
        "    dxdt = (A+B@K)@x\n",
        "    return dxdt\n",
        "\n",
        "# Simulation time\n",
        "t0=0\n",
        "tf=15\n",
        "npt=100\n",
        "t = np.linspace(t0,tf,npt)  # From t0 to tf with np points\n",
        "\n",
        "# solve the ODE with the given initial condition\n",
        "sol = odeint(system, x0, t)\n",
        "\n",
        "# Taking the solution\n",
        "x = sol[:,:]\n",
        "\n",
        "x1 = sol[:, 0]  # First state\n",
        "x2 = sol[:, 1]  # Second state\n",
        "\n",
        "#Creating a vector to store the values of the Lyapunov function\n",
        "V = np.zeros(len(t))\n",
        "\n",
        "# Computing V=x'Px=x'Qinvx\n",
        "for i in range(len(t)):\n",
        "    x_i = np.array([x1[i], x2[i]])\n",
        "    V[i] =  x_i.T@Qinv@x_i\n",
        "\n",
        "\n",
        "plt.figure()\n",
        "plt.subplot(211)\n",
        "plt.plot(t, x)\n",
        "plt.xlabel('t')\n",
        "plt.ylabel('x(t)')\n",
        "plt.grid(True)\n",
        "\n",
        "plt.subplot(212)\n",
        "plt.plot(t, V)\n",
        "plt.xlabel('t')\n",
        "plt.ylabel('Lyapunov function')\n",
        "plt.grid(True)\n",
        "\n",
        "\n",
        "plt.tight_layout()\n",
        "plt.show()\n",
        "\n"
      ],
      "metadata": {
        "colab": {
          "base_uri": "https://localhost:8080/",
          "height": 486
        },
        "id": "0zoGal7eZxxT",
        "outputId": "c034088e-fe1f-4be1-85c4-e5361c2437e4"
      },
      "execution_count": null,
      "outputs": [
        {
          "output_type": "display_data",
          "data": {
            "text/plain": [
              "<Figure size 640x480 with 2 Axes>"
            ],
            "image/png": "[encoded data removed]"
          },
          "metadata": {}
        }
      ]
    }
  ]
}