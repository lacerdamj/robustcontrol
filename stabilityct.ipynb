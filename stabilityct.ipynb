{
  "nbformat": 4,
  "nbformat_minor": 0,
  "metadata": {
    "colab": {
      "provenance": [],
      "authorship_tag": "ABX9TyM7HljIrGRSVOEdXA1v7c+x"
    },
    "kernelspec": {
      "name": "python3",
      "display_name": "Python 3"
    },
    "language_info": {
      "name": "python"
    }
  },
  "cells": [
    {
      "cell_type": "markdown",
      "source": [
        "# Continuous-time linear systems\n",
        "\n",
        "## Stability Analysis\n",
        "\n",
        "The Lyapunov theory will be employed to check the stability of the system, considering a quadratic Lyapunov function $V(x)=x^TPx$. The Lyapunov function must be positive along the trajectories of the system, i.e., $V(x)>0$. Moreover, the derivative of the Lyapunov function must be negative $\\dot{V}(x)<0$.\n",
        "\n",
        "Consider the following continuous-time system\n",
        "$$\n",
        "\\dot{x}=Ax.\n",
        "$$\n",
        "\n",
        "To provide a stability certificate for this system, the Lyapunov theory will be employed. One must have:\n",
        "\n",
        "i) $V(x)>0$,\n",
        "\n",
        "$x^TPx>0$, or simply $P>0$.\n",
        "\n",
        "\n",
        "ii) $\\dot{V}(x)<0$,\n",
        "\n",
        "$\\dot{x}^TPx+ {x}^TP\\dot{x}<0$, or\n",
        "\n",
        "$x^TA^TPx+x^TPAx<0$, which can be verified by the following condition\n",
        "\n",
        "$A^TP+PA<0$.\n",
        "\n",
        "We have a set with two Linear Matrix Inequalities (LMIs), that can be solved thanks to the existence of semidefinite programming tools. Once the LMIs are solved we will have an answer about the stability of the system. For precisely known systems, the conditions\n",
        "$$\n",
        "P>0, \\quad A^TP+PA<0,\n",
        "$$\n",
        "are necessary and sufficient to certify the stability of the system $\\dot{x}=Ax$.\n",
        "\n",
        "\n",
        "The following example will be employed to show how cvxpy can be used to solve such a problem.\n",
        "\n",
        "Consider the following continuous-time autonomous system.\n",
        "$$\n",
        "\\dot{x}=\\begin{bmatrix}-1 & 1 \\\\ 0.5 & -1 \\end{bmatrix}x\n",
        "$$\n"
      ],
      "metadata": {
        "id": "rDaKPR1EKcXJ"
      }
    },
    {
      "cell_type": "code",
      "execution_count": 1,
      "metadata": {
        "colab": {
          "base_uri": "https://localhost:8080/"
        },
        "id": "SqNtWE-opT_L",
        "outputId": "a57eb996-01bc-4acb-80fe-2c4fd222b83e"
      },
      "outputs": [
        {
          "output_type": "stream",
          "name": "stdout",
          "text": [
            "status: optimal\n",
            "The Lyapunov matrix is:\n",
            "[[1.7863245  0.49112191]\n",
            " [0.49112191 2.29234457]]\n",
            "The eigenvalues of the Lyapunov matrix are: [1.48687204 2.59179703]\n",
            "P is positive definite.\n",
            "The eigenvalues of the matrix A are: [-0.29289322 -1.70710678]\n"
          ]
        }
      ],
      "source": [
        "#Stability of linear continuous-time systems\n",
        "\n",
        "import cvxpy as cp\n",
        "import numpy as np\n",
        "\n",
        "#Define the system matrix\n",
        "A = np.array([[-1, 1],[0.5, -1]])\n",
        "#Find the number of states\n",
        "nx=A.shape[0]\n",
        "#Create the decision variable\n",
        "P = cp.Variable((nx,nx), PSD=True)\n",
        "#Add the constraints\n",
        "constraints = [P >> np.eye(nx), A.T@P + P@A << -np.eye(nx)]\n",
        "#Create the objective function\n",
        "objective = cp.Minimize(0)\n",
        "#Define the problem to be solved\n",
        "problem = cp.Problem(objective,constraints)\n",
        "#Solve the problem\n",
        "result = problem.solve()\n",
        "#Print status and solution\n",
        "if problem.status in [\"optimal\"]:\n",
        "    P = P.value\n",
        "    print(f\"status: {problem.status}\")\n",
        "    print(f\"The Lyapunov matrix is:\\n{P}\")\n",
        "\n",
        "    # Check if P is positive definite\n",
        "    eigenvalues = np.linalg.eigvals(P)\n",
        "    print(f\"The eigenvalues of the Lyapunov matrix are: {eigenvalues}\")\n",
        "\n",
        "    # Check positive definiteness by verifying that all eigenvalues are positive\n",
        "    if np.all(eigenvalues > 0):\n",
        "        print(\"P is positive definite.\")\n",
        "    else:\n",
        "        print(\"P is not positive definite.\")\n",
        "else:\n",
        "    print(f\"Problem status: {problem.status}. No valid solution found.\")\n",
        "\n",
        "#Check the eigenvalues of A\n",
        "eigenvaluesA = np.linalg.eigvals(A)\n",
        "print(f\"The eigenvalues of the matrix A are: {eigenvaluesA}\")"
      ]
    },
    {
      "cell_type": "markdown",
      "source": [
        "Note that the status of the solution is optimal, indicating that the problem was solved and a solution was found. Another important point is the fact that the constraints used were\n",
        "$$\n",
        "P>I, \\quad A^TP+PA<-I.\n",
        "$$\n",
        "This is because cvxpy only considers non-strict inequalities. To be sure that the solution is positive or negative definite, we must impose this constraints. We could also use\n",
        "$$\n",
        "P>\\varepsilon I, \\quad A^TP+PA<-\\varepsilon I.\n",
        "$$\n",
        "with a small value of $\\varepsilon>0$.\n",
        "\n",
        "In the sequel we show how to compute the time-response for the system $\\dot{x}=Ax$, we also use the states value to plot the trajectories of the Lyapunov function $V(x)=x^TPx$."
      ],
      "metadata": {
        "id": "vyU-D-qGXSAP"
      }
    },
    {
      "cell_type": "code",
      "source": [
        "import numpy as np\n",
        "from scipy.integrate import odeint\n",
        "import matplotlib.pyplot as plt\n",
        "\n",
        "#System matrices\n",
        "A = np.array([[-1.0, 1],[0.5,-1]])\n",
        "\n",
        "#random initial condition\n",
        "x0 = np.random.randn(2)\n",
        "\n",
        "# Define the ODE\n",
        "def system(x, t):\n",
        "    dxdt = A@x #\\dot{x}=Ax\n",
        "    return dxdt\n",
        "\n",
        "# Simulation time\n",
        "t0=0\n",
        "tf=15\n",
        "npt=100\n",
        "t = np.linspace(t0,tf,npt)  # From t0 to tf with np points\n",
        "\n",
        "# solve the ODE with the given initial condition\n",
        "sol = odeint(system, x0, t)\n",
        "\n",
        "# Taking the solution\n",
        "x = sol[:,:]\n",
        "\n",
        "x1 = sol[:, 0]  # First state\n",
        "x2 = sol[:, 1]  # Second state\n",
        "\n",
        "#Creating a vector to store the values of the Lyapunov function\n",
        "V = np.zeros(len(t))\n",
        "\n",
        "# Computing V=x'Px\n",
        "for i in range(len(t)):\n",
        "    x_i = np.array([x1[i], x2[i]])\n",
        "    V[i] =  x_i.T@P@x_i\n",
        "\n",
        "\n",
        "plt.figure()\n",
        "plt.subplot(211)\n",
        "plt.plot(t, x)\n",
        "plt.xlabel('t')\n",
        "plt.ylabel('x(t)')\n",
        "plt.grid(True)\n",
        "\n",
        "plt.subplot(212)\n",
        "plt.plot(t, V)\n",
        "plt.xlabel('t')\n",
        "plt.ylabel('Lyapunov function')\n",
        "plt.grid(True)\n",
        "\n",
        "\n",
        "plt.tight_layout()\n",
        "\n",
        "plt.show()\n",
        "\n"
      ],
      "metadata": {
        "colab": {
          "base_uri": "https://localhost:8080/",
          "height": 486
        },
        "id": "rvJ6u1AHEha0",
        "outputId": "9490795d-6d6f-4d7b-f0e6-1303d52e6702"
      },
      "execution_count": 2,
      "outputs": [
        {
          "output_type": "display_data",
          "data": {
            "text/plain": [
              "<Figure size 640x480 with 2 Axes>"
            ],
            "image/png": "[encoded data removed]"
          },
          "metadata": {}
        }
      ]
    },
    {
      "cell_type": "markdown",
      "source": [
        "Observe that the trajectories of the system converge to zero, since the system is asymptotically stable. Moreover, the computed Lyapunov function is always positive and monotonically decreasing, which guarantees that $V(x)>0$ and\n",
        "$\\dot{V}(x)<0$ for all $x \\neq 0$ ."
      ],
      "metadata": {
        "id": "cDrdJZEUZfE1"
      }
    }
  ]
}